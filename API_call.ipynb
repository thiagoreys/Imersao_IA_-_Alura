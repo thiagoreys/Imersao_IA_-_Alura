{
  "nbformat": 4,
  "nbformat_minor": 0,
  "metadata": {
    "colab": {
      "provenance": []
    },
    "kernelspec": {
      "name": "python3",
      "display_name": "Python 3"
    },
    "language_info": {
      "name": "python"
    }
  },
  "cells": [
    {
      "cell_type": "code",
      "source": [
        "#instalar a lib da Openai\n",
        "!pip install openai"
      ],
      "metadata": {
        "id": "tX2P1Pf4LlkA"
      },
      "execution_count": null,
      "outputs": []
    },
    {
      "cell_type": "code",
      "execution_count": null,
      "metadata": {
        "id": "OKd586wkQUlU",
        "colab": {
          "base_uri": "https://localhost:8080/"
        },
        "outputId": "70be5b44-a00e-4ee0-e198-72f0b1ca6f91"
      },
      "outputs": [
        {
          "name": "stdout",
          "output_type": "stream",
          "text": [
            "Esperando input: fim\n"
          ]
        }
      ],
      "source": [
        "import openai\n",
        "import json\n",
        "\n",
        "# seta a API key\n",
        "openai.api_key = SECRET_KEY\n",
        "\n",
        "# Definição de persona do sistema e histórico de mensagens\n",
        "messages = [\n",
        "        {\"role\": \"system\", \"content\": \"Você é um assistente prestativo.\"}, # seta a persona do modelo, se vai ser educado, formal, sarcástico, se passar por alguém...\n",
        "        # {\"role\": \"system\", \"content\": \"Você é um assistente extremamente sarcástico.\"}, # seta a persona do modelo, se vai ser educado, formal, sarcástico, se passar por alguém...\n",
        "        # {\"role\": \"system\", \"content\": \"Você é um assistente extremamente formal, que usa o português da época de Camões.\"}, # seta a persona do modelo, se vai ser educado, formal, sarcástico, se passar por alguém...\n",
        "]\n",
        "\n",
        "input_message = input('Esperando input: ')\n",
        "messages.append({\"role\": \"user\", \"content\": input_message})  # adiciona sua pergunta no histórico do chat\n",
        "\n",
        "# enquanto o input não for a palavra 'fim'\n",
        "while input_message != 'fim':\n",
        "    # Chamada à API\n",
        "    response = openai.ChatCompletion.create(\n",
        "      model = \"gpt-3.5-turbo\",\n",
        "      messages = messages,\n",
        "      max_tokens = 200,\n",
        "      temperature = 1\n",
        "    )\n",
        "\n",
        "    # Extrai a resposta de dentro do JSON de resposta\n",
        "    answer = response['choices'][0]['message']['content']\n",
        "    messages.append({\"role\": \"assistant\", \"content\": answer})  # adiciona a resposta no histórico do chat\n",
        "\n",
        "    # Imprime a resposta\n",
        "    print(\"Resposta:\", answer)\n",
        "\n",
        "    input_message = input('Esperando input: ')\n",
        "    messages.append({\"role\": \"user\", \"content\": input_message})  # adiciona sua pergunta no histórico do chat\n"
      ]
    }
  ]
}